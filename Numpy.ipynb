{
 "cells": [
  {
   "cell_type": "markdown",
   "id": "91a6d2bc",
   "metadata": {},
   "source": [
    "<h1>Import Numpy</h1>"
   ]
  },
  {
   "cell_type": "code",
   "execution_count": 3,
   "id": "a9ffe113",
   "metadata": {},
   "outputs": [],
   "source": [
    "import numpy as np"
   ]
  },
  {
   "cell_type": "markdown",
   "id": "2d0b2e47",
   "metadata": {},
   "source": [
    "<h1>Basic Example</h1>"
   ]
  },
  {
   "cell_type": "code",
   "execution_count": 2,
   "id": "df748a09",
   "metadata": {},
   "outputs": [
    {
     "name": "stdout",
     "output_type": "stream",
     "text": [
      "[11 22 33]\n"
     ]
    }
   ],
   "source": [
    "import numpy as np\n",
    "\n",
    "list1 = [11,22,33]\n",
    "a = np.array(list1)\n",
    "print(a)"
   ]
  },
  {
   "cell_type": "markdown",
   "id": "98813751",
   "metadata": {},
   "source": [
    "<h1>Create a numpy Array:</h1>"
   ]
  },
  {
   "cell_type": "code",
   "execution_count": 7,
   "id": "99e79952",
   "metadata": {},
   "outputs": [
    {
     "name": "stdout",
     "output_type": "stream",
     "text": [
      "[1 2 3 4 5]\n",
      "<class 'numpy.ndarray'>\n"
     ]
    }
   ],
   "source": [
    "import numpy as np\n",
    "\n",
    "arr = np.array([1, 2, 3, 4, 5])\n",
    "print(arr)\n",
    "print(type(arr))"
   ]
  },
  {
   "cell_type": "markdown",
   "id": "b6d7c211",
   "metadata": {},
   "source": [
    "<h1>Create a 0-D Array with value 42:</h1>"
   ]
  },
  {
   "cell_type": "code",
   "execution_count": 8,
   "id": "22edd278",
   "metadata": {},
   "outputs": [
    {
     "name": "stdout",
     "output_type": "stream",
     "text": [
      "42\n"
     ]
    }
   ],
   "source": [
    "import numpy as np\n",
    "\n",
    "arr = np.array(42)\n",
    "\n",
    "print(arr)"
   ]
  },
  {
   "cell_type": "markdown",
   "id": "73da4a7e",
   "metadata": {},
   "source": [
    "<h1>Create a 2-D Array conatining two arrays with the values 1,2,3 and 4,5,6</h1>"
   ]
  },
  {
   "cell_type": "code",
   "execution_count": 2,
   "id": "fb3a7a58",
   "metadata": {},
   "outputs": [
    {
     "name": "stdout",
     "output_type": "stream",
     "text": [
      "[[1 2 3]\n",
      " [4 5 6]]\n"
     ]
    }
   ],
   "source": [
    "import numpy as np\n",
    "\n",
    "arr = np.array([[1, 2, 3], [4, 5, 6]])\n",
    "\n",
    "print(arr)"
   ]
  },
  {
   "cell_type": "markdown",
   "id": "1e67663f",
   "metadata": {},
   "source": [
    "<h1>Create a 3-D Array containing three arrays with the values:</h1>"
   ]
  },
  {
   "cell_type": "code",
   "execution_count": 4,
   "id": "71da7b2c",
   "metadata": {},
   "outputs": [
    {
     "name": "stdout",
     "output_type": "stream",
     "text": [
      "[[[ 1  2  3]\n",
      "  [ 4  5  6]]\n",
      "\n",
      " [[ 7  8  9]\n",
      "  [10 11 12]]\n",
      "\n",
      " [[ 7  8  9]\n",
      "  [10 11 12]]]\n",
      "24\n"
     ]
    }
   ],
   "source": [
    "import numpy as np\n",
    "\n",
    "arr = np.array([[[1, 2, 3], [4, 5, 6]], [[7, 8, 9], [10, 11, 12]],  [[7, 8, 9], [10, 11, 12]]])\n",
    "print(arr)\n",
    "add = arr[0,0,2]+arr[1,1,1]+arr[2,1,0]\n",
    "print(add)\n"
   ]
  },
  {
   "cell_type": "code",
   "execution_count": null,
   "id": "11372ec6",
   "metadata": {},
   "outputs": [],
   "source": []
  }
 ],
 "metadata": {
  "kernelspec": {
   "display_name": "Python 3 (ipykernel)",
   "language": "python",
   "name": "python3"
  },
  "language_info": {
   "codemirror_mode": {
    "name": "ipython",
    "version": 3
   },
   "file_extension": ".py",
   "mimetype": "text/x-python",
   "name": "python",
   "nbconvert_exporter": "python",
   "pygments_lexer": "ipython3",
   "version": "3.9.13"
  }
 },
 "nbformat": 4,
 "nbformat_minor": 5
}
